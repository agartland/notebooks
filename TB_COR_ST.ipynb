{
 "metadata": {
  "name": "",
  "signature": "sha256:59c93f6abcb759e3e43c977759c4ed654c8bc4b88e151da74344a244a2a55572"
 },
 "nbformat": 3,
 "nbformat_minor": 0,
 "worksheets": [
  {
   "cells": [
    {
     "cell_type": "markdown",
     "metadata": {},
     "source": [
      "# Trial design for COR+ targeted screen and treat strategy\n",
      "## Biomarker groups:\n",
      "  - QFT (QuantiFERON-GIT)\n",
      "  - COR\n",
      "\n",
      "## Randomization of COR+\n",
      "  - Treatment\n",
      "  - Placebo\n",
      "\n",
      "## Parameters:\n",
      "  - Randomization ratio: K\n",
      "  - Prevalence of COR+: P\n",
      "  - Prevalence of QFT+: Q\n",
      "  - Endpoint rates: rate\n",
      "  - Relative risk COR+: RRcor(t)\n",
      "  - Relative risk COR+ treated vs. placebo: RRtmt\n",
      "\n",
      "## Primary analyses:\n",
      "### Interim at 1 year\n",
      "   - Test impact of Treatment within COR+\n",
      "   - Test impact of S&T strategy\n",
      "   - Continue trial if treatment is effective in COR+ and if strategy is not futile\n",
      "\n",
      "### Final analysis at >2 years\n",
      "   - Test impactof S&T strategy "
     ]
    },
    {
     "cell_type": "code",
     "collapsed": false,
     "input": [
      "%pylab inline\n",
      "import pandas as pd\n",
      "import pygraphviz as pgz\n",
      "from IPython.display import Image\n",
      "from IPython.display import HTML\n",
      "from scipy import stats\n",
      "from lifelines.estimation import KaplanMeierFitter\n",
      "from lifelines.statistics import logrank_test\n",
      "from lifelines import CoxPHFitter\n",
      "\n",
      "pd.set_option('display.max_colwidth', -1)"
     ],
     "language": "python",
     "metadata": {},
     "outputs": [
      {
       "output_type": "stream",
       "stream": "stdout",
       "text": [
        "Populating the interactive namespace from numpy and matplotlib\n"
       ]
      }
     ],
     "prompt_number": 18
    },
    {
     "cell_type": "code",
     "collapsed": false,
     "input": [
      "\"\"\"Define parameter values\"\"\"\n",
      "tmp =    [('N',10000,\"Total participants enrolled\"),\n",
      "          ('lostRate', 0.1,\"Rate of participants lost to followup (per year)\"),\n",
      "          ('K', 2, \"Randomization ratio of COR+ to treatment vs. placebo\"),\n",
      "          ('P', 0.2, \"Prevalence of COR+\"),\n",
      "          ('Q', 0.9, \"Prevalence of QFT+ (independent of COR for now...)\"),\n",
      "          ('fuFrac', 0.5, \"Fraction of COR- that are followed to the endpoint\"),\n",
      "          ('tbRate', 0.008, \"Rate of developing TB disease (TB per year in COR-)\"),\n",
      "          ('RRcor', 4.0, \"Max RR for COR+ at time of diagnostic\"),\n",
      "          ('RRtmt', 2.0, \"Reduction in RR for COR+ treated vs. untreated\"),\n",
      "          ('discretize',False,'Indicator of whether event times should be discretized by visits'),\n",
      "          ('visits', nan, \"Vector of times in years of follow-up visits (for discretizing endpoints)\"),\n",
      "          ('CORdecay', 1, \"Decay time constant for RRcor\")]\n",
      "paramsDf = pd.DataFrame(tmp,columns = ['Var','Value','Description'])\n",
      "params = paramsDf.set_index('Var').Value\n",
      "HTML(paramsDf.to_html(index=False))"
     ],
     "language": "python",
     "metadata": {},
     "outputs": [
      {
       "html": [
        "<table border=\"1\" class=\"dataframe\">\n",
        "  <thead>\n",
        "    <tr style=\"text-align: right;\">\n",
        "      <th>Var</th>\n",
        "      <th>Value</th>\n",
        "      <th>Description</th>\n",
        "    </tr>\n",
        "  </thead>\n",
        "  <tbody>\n",
        "    <tr>\n",
        "      <td> N</td>\n",
        "      <td> 10000</td>\n",
        "      <td> Total participants enrolled</td>\n",
        "    </tr>\n",
        "    <tr>\n",
        "      <td> lostRate</td>\n",
        "      <td> 0.1</td>\n",
        "      <td> Rate of participants lost to followup (per year)</td>\n",
        "    </tr>\n",
        "    <tr>\n",
        "      <td> K</td>\n",
        "      <td> 2</td>\n",
        "      <td> Randomization ratio of COR+ to treatment vs. placebo</td>\n",
        "    </tr>\n",
        "    <tr>\n",
        "      <td> P</td>\n",
        "      <td> 0.2</td>\n",
        "      <td> Prevalence of COR+</td>\n",
        "    </tr>\n",
        "    <tr>\n",
        "      <td> Q</td>\n",
        "      <td> 0.9</td>\n",
        "      <td> Prevalence of QFT+ (independent of COR for now...)</td>\n",
        "    </tr>\n",
        "    <tr>\n",
        "      <td> fuFrac</td>\n",
        "      <td> 0.5</td>\n",
        "      <td> Fraction of COR- that are followed to the endpoint</td>\n",
        "    </tr>\n",
        "    <tr>\n",
        "      <td> tbRate</td>\n",
        "      <td> 0.008</td>\n",
        "      <td> Rate of developing TB disease (TB per year in COR-)</td>\n",
        "    </tr>\n",
        "    <tr>\n",
        "      <td> RRcor</td>\n",
        "      <td> 4</td>\n",
        "      <td> Max RR for COR+ at time of diagnostic</td>\n",
        "    </tr>\n",
        "    <tr>\n",
        "      <td> RRtmt</td>\n",
        "      <td> 2</td>\n",
        "      <td> Reduction in RR for COR+ treated vs. untreated</td>\n",
        "    </tr>\n",
        "    <tr>\n",
        "      <td> discretize</td>\n",
        "      <td> False</td>\n",
        "      <td> Indicator of whether event times should be discretized by visits</td>\n",
        "    </tr>\n",
        "    <tr>\n",
        "      <td> visits</td>\n",
        "      <td> NaN</td>\n",
        "      <td> Vector of times in years of follow-up visits (for discretizing endpoints)</td>\n",
        "    </tr>\n",
        "    <tr>\n",
        "      <td> CORdecay</td>\n",
        "      <td> 1</td>\n",
        "      <td> Decay time constant for RRcor</td>\n",
        "    </tr>\n",
        "  </tbody>\n",
        "</table>"
       ],
       "metadata": {},
       "output_type": "pyout",
       "prompt_number": 19,
       "text": [
        "<IPython.core.display.HTML at 0x1333b080>"
       ]
      }
     ],
     "prompt_number": 19
    },
    {
     "cell_type": "code",
     "collapsed": false,
     "input": [
      "def initializeDf(params):\n",
      "    \"\"\"Generate a full cohort of participants based on randomization parameters and COR+ prevelence,\n",
      "    in preparation for a single simulation.\"\"\"\n",
      "    \n",
      "    N,K,P,Q = params['N'],params['K'],params['P'],params['Q']\n",
      "    \n",
      "    df = pd.DataFrame({'ptid':arange(N),\n",
      "                       'QFT':zeros(N),\n",
      "                       'COR':zeros(N),\n",
      "                       'follow':ones(N),\n",
      "                       'treated':zeros(N)}).set_index('ptid')\n",
      "    \n",
      "    \"\"\"Set COR positivity for whole cohort\"\"\"    \n",
      "    df['COR'] = (rand(N)<P).astype(int)\n",
      "    \n",
      "    \"\"\"Set QFT positivity for whole cohort\"\"\"\n",
      "    \"\"\"For now it is independent of COR and is not used\"\"\"\n",
      "    df['QFT'] = (rand(N)<Q).astype(int)\n",
      "    \n",
      "    \"\"\"Only a fraction of the COR- will be followed.\"\"\"\n",
      "    df['follow'].loc[df.COR==0] = (rand((df.COR==0).sum()) < params['fuFrac']).astype(int)\n",
      "    \n",
      "    \"\"\"COR+ arm is randomized to treatment/placebo in K:1 ratio\"\"\"\n",
      "    ind = find(df.COR==1)\n",
      "    nTreated = int(round(len(ind)*(1-1/(K+1))))\n",
      "    df['treated'].iloc[ind[:nTreated]] = 1\n",
      "    \n",
      "    return df"
     ],
     "language": "python",
     "metadata": {},
     "outputs": [],
     "prompt_number": 20
    },
    {
     "cell_type": "code",
     "collapsed": false,
     "input": [
      "df = initializeDf(params)\n",
      "cols = ['COR','follow','treated']\n",
      "print df[cols].groupby(cols).agg(len)"
     ],
     "language": "python",
     "metadata": {},
     "outputs": [
      {
       "output_type": "stream",
       "stream": "stdout",
       "text": [
        "COR  follow  treated\n",
        "0    0       0          3993\n",
        "     1       0          4023\n",
        "1    1       0          661\n",
        "             1          1323\n",
        "dtype: int64\n"
       ]
      }
     ],
     "prompt_number": 21
    },
    {
     "cell_type": "code",
     "collapsed": false,
     "input": [
      "\"\"\"Gives the RR of disease for COR+ as a function of the initial/max RR, the decay rate of the COR+ and time in years.\"\"\"\n",
      "RRCORFunc = lambda RR,decay,t: RR*exp(-t/decay)\n",
      "\n",
      "def endpointRV(QFT,COR,treated,params):\n",
      "    \"\"\"Simulates a participant's endpoint based on model parameters and an individual's characteristics.\n",
      "    \n",
      "    Parameters\n",
      "    ----------\n",
      "    QFT : int\n",
      "        Indicator of QuantiFERON positivity\n",
      "    COR : int\n",
      "        Indicator of COR positivity\n",
      "    treated : int\n",
      "        Indicator of treatment assignment\n",
      "    params : dict\n",
      "        Contains relevant model parameters including: tbRate, visits, RRcor, CORdecay, RRtmt, lostRate\n",
      "        \n",
      "    Returns\n",
      "    -------\n",
      "    censored : int\n",
      "        Indicator of right censoring from lost to follow-up\n",
      "    endpoint : float\n",
      "        Time in years of endpoint, possibly discretized by visits\"\"\"\n",
      "    \n",
      "    if COR==1:\n",
      "        \"\"\"For now, generate a random variate from an exponential PDF,\n",
      "        later this will need to be updated to allow for a time-varying rate.\"\"\"\n",
      "        \n",
      "        if treated==1:\n",
      "            rate = params['tbRate'] * params['RRcor'] * (1/params['RRtmt'])\n",
      "        elif treated==0:\n",
      "            rate = params['tbRate'] * params['RRcor']\n",
      "    elif COR==0:\n",
      "        rate = params['tbRate']\n",
      "        \n",
      "    \"\"\"Generate random exponential variate based on rate parameter\"\"\"\n",
      "    T = -log(rand()) / rate\n",
      "    \n",
      "    Tlost = -log(rand()) / params['lostRate']\n",
      "    \n",
      "    if Tlost < T:\n",
      "        censored = 1\n",
      "        T = Tlost\n",
      "    else:\n",
      "        censored = 0\n",
      "    \n",
      "    if params['discretize']:\n",
      "        \"\"\"Discretize T based on visits\"\"\"\n",
      "        if censored==1:\n",
      "            \"\"\"Last visit before lost\"\"\"\n",
      "            T = params['visits'][argmax(find(params['visits'] < T ))]\n",
      "        else:\n",
      "            \"\"\"First visit after endpoint\"\"\"\n",
      "            T = params['visits'][argmin(find(params['visits'] > T ))]\n",
      "        \n",
      "    return censored, T"
     ],
     "language": "python",
     "metadata": {},
     "outputs": [],
     "prompt_number": 22
    },
    {
     "cell_type": "code",
     "collapsed": false,
     "input": [
      "def simulateDisease(df,followup1,followup2,params):\n",
      "    \"\"\"Simulate endpoints for all participants in the cohort,\n",
      "    during the specified followup periods and according to params\"\"\"\n",
      "    \n",
      "    \"\"\"Numpy arrays for temporarily storing all generated data\"\"\"\n",
      "    disease = zeros((df.shape[0],2), dtype=int32)\n",
      "    dx = zeros((df.shape[0],2), dtype=float64)\n",
      "    \n",
      "    for ptidi in arange(df.shape[0]):\n",
      "        QFT, COR, treated = df[['QFT','COR','treated']].iloc[ptidi]\n",
      "        censored, T = endpointRV(QFT,COR,treated,params)\n",
      "        \n",
      "        if censored==1:\n",
      "            disease[ptidi,:] = 0\n",
      "        else:\n",
      "            disease[ptidi,0] = int(T <= followup1)\n",
      "            disease[ptidi,1] = int(T <= followup2)\n",
      "        \n",
      "        \"\"\"Time is the min(followup,T), censored or not\"\"\"\n",
      "        dx[ptidi,0] = min(followup1,T)\n",
      "        dx[ptidi,1] = min(followup2,T)\n",
      "    \n",
      "    \"\"\"Copy data into the DataFrame.\n",
      "    Performed separately for speed-up.\"\"\"\n",
      "    df['disease1'] = disease[:,0]\n",
      "    df['disease2'] = disease[:,1]\n",
      "    df['dx1'] = dx[:,0]\n",
      "    df['dx2'] = dx[:,1]\n",
      "    \n",
      "    return df"
     ],
     "language": "python",
     "metadata": {},
     "outputs": [],
     "prompt_number": 23
    },
    {
     "cell_type": "code",
     "collapsed": false,
     "input": [
      "df = simulateDisease(df, followup1=1, followup2=2, params=params)\n",
      "\n",
      "cols = ['COR','follow','treated']\n",
      "print df[cols+['disease1','disease2']].groupby(cols).agg(sum)"
     ],
     "language": "python",
     "metadata": {},
     "outputs": [
      {
       "output_type": "stream",
       "stream": "stdout",
       "text": [
        "                    disease1  disease2\n",
        "COR follow treated                    \n",
        "0   0      0        27        54      \n",
        "    1      0        22        52      \n",
        "1   1      0        19        35      \n",
        "           1        18        34      \n"
       ]
      }
     ],
     "prompt_number": 24
    },
    {
     "cell_type": "markdown",
     "metadata": {},
     "source": [
      "##Figure 1\n",
      "Plot of KM curves for treated and non-treated COR+ participants, after one year of follow-up."
     ]
    },
    {
     "cell_type": "code",
     "collapsed": false,
     "input": [
      "\"\"\"After the first year, compare the TB rates in COR+ treated vs. non-treated\"\"\"\n",
      "kmf = KaplanMeierFitter()\n",
      "\n",
      "figure(figsize=(12,5))\n",
      "ax = subplot(111)\n",
      "\n",
      "for tmti,tmt in enumerate(['Non-treated','Treated']):\n",
      "    ind = (df.COR==1) & (df.treated==tmti)\n",
      "    kmf.fit(durations = df.dx1[ind], event_observed = df.disease1[ind],label=tmt)\n",
      "    kmf.plot(ax=ax, show_censors=True)\n",
      "ylabel('Probability of being TB disease free\\nduring the follow-up period')\n",
      "xlabel('Duration (years)')\n",
      "\n",
      "summary, pvalue, test_results = logrank_test(df.dx1[(df.COR==1) & (df.treated==0)],\n",
      "                                             df.dx1[(df.COR==1) & (df.treated==1)],\n",
      "                                             df.disease1[(df.COR==1) & (df.treated==0)],\n",
      "                                             df.disease1[(df.COR==1) & (df.treated==1)])\n",
      "                                             \n",
      "annotate(xy = (0.5,1), s='logrank p = %1.2g' % pvalue, xycoords = 'axes fraction',size ='x-large', ha = 'center',va='top')"
     ],
     "language": "python",
     "metadata": {},
     "outputs": [
      {
       "output_type": "stream",
       "stream": "stdout",
       "text": [
        "Results\n",
        "   df: 1\n",
        "   alpha: 0.95\n",
        "   t 0: -1\n",
        "   test: logrank\n",
        "   null distribution: chi squared\n",
        "\n",
        "   __ p-value ___|__ test statistic __|__ test results __\n",
        "         0.01856 |              5.543 |     True   \n"
       ]
      },
      {
       "metadata": {},
       "output_type": "pyout",
       "prompt_number": 25,
       "text": [
        "<matplotlib.text.Annotation at 0x140aab70>"
       ]
      },
      {
       "metadata": {},
       "output_type": "display_data",
       "png": "[encoded data removed]",
       "text": [
        "<matplotlib.figure.Figure at 0x9a2c2e8>"
       ]
      }
     ],
     "prompt_number": 25
    },
    {
     "cell_type": "markdown",
     "metadata": {},
     "source": [
      "##Figure 2\n",
      "Plot of KM curves for treated and non-treated COR+ participants, after two years of follow-up."
     ]
    },
    {
     "cell_type": "code",
     "collapsed": false,
     "input": [
      "\"\"\"After the second year, compare the TB rates in COR+ treated vs. non-treated\"\"\"\n",
      "kmf = KaplanMeierFitter()\n",
      "\n",
      "figure(figsize=(12,5))\n",
      "ax = subplot(111)\n",
      "\n",
      "for tmti,tmt in enumerate(['Non-treated','Treated']):\n",
      "    ind = (df.COR==1) & (df.treated==tmti)\n",
      "    kmf.fit(durations = df.dx1[ind], event_observed = df.disease1[ind],label=tmt)\n",
      "    kmf.plot(ax=ax, show_censors=True)\n",
      "ylabel('Probability of being TB disease free\\nduring the follow-up period')\n",
      "xlabel('Duration (years)')\n",
      "\n",
      "summary, pvalue, test_results = logrank_test(df.dx2[(df.COR==1) & (df.treated==0)],\n",
      "                                             df.dx2[(df.COR==1) & (df.treated==1)],\n",
      "                                             df.disease2[(df.COR==1) & (df.treated==0)],\n",
      "                                             df.disease2[(df.COR==1) & (df.treated==1)])\n",
      "                                             \n",
      "annotate(xy = (0.5,1), s='logrank p = %1.2g' % pvalue, xycoords = 'axes fraction',size ='x-large', ha = 'center',va='top')"
     ],
     "language": "python",
     "metadata": {},
     "outputs": [
      {
       "output_type": "stream",
       "stream": "stdout",
       "text": [
        "Results\n",
        "   df: 1\n",
        "   alpha: 0.95\n",
        "   t 0: -1\n",
        "   test: logrank\n",
        "   null distribution: chi squared\n",
        "\n",
        "   __ p-value ___|__ test statistic __|__ test results __\n",
        "         0.00164 |              9.912 |     True   \n"
       ]
      },
      {
       "metadata": {},
       "output_type": "pyout",
       "prompt_number": 26,
       "text": [
        "<matplotlib.text.Annotation at 0x13e999e8>"
       ]
      },
      {
       "metadata": {},
       "output_type": "display_data",
       "png": "[encoded data removed]",
       "text": [
        "<matplotlib.figure.Figure at 0x140a6eb8>"
       ]
      }
     ],
     "prompt_number": 26
    }
   ],
   "metadata": {}
  }
 ]
}